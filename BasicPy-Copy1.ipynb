{
 "cells": [
  {
   "cell_type": "markdown",
   "id": "d3bf79c1-4500-47a3-88cf-1c2d99bd8c0f",
   "metadata": {
    "tags": []
   },
   "source": [
    "# Basic `Python` Programming\n",
    "**In this notebook we will explain basic `Python` for Machine learning**"
   ]
  },
  {
   "cell_type": "markdown",
   "id": "5e6244cc-31ac-408e-9221-fdd42b365eb2",
   "metadata": {},
   "source": [
    "## Derived datatypes in `Python` ##"
   ]
  },
  {
   "cell_type": "markdown",
   "id": "6e82ae01-e325-44e5-8a42-270f5e647752",
   "metadata": {},
   "source": [
    "> **NOTE:**\n",
    ">>In `Python str, int, float` are atomic datatypes and no declaration is required. "
   ]
  },
  {
   "cell_type": "markdown",
   "id": "bc042bfe-6c08-42cd-9e9e-1ad0fd8b6d29",
   "metadata": {},
   "source": [
    "### Lists ###"
   ]
  },
  {
   "cell_type": "code",
   "execution_count": 31,
   "id": "ecc017a1-7e6d-45a6-8e65-2bddd76ae278",
   "metadata": {},
   "outputs": [
    {
     "data": {
      "text/plain": [
       "[1, 2, 3, 'a', ['a', 'b', 'c']]"
      ]
     },
     "execution_count": 31,
     "metadata": {},
     "output_type": "execute_result"
    }
   ],
   "source": [
    "mylist = [1,2,3]\n",
    "mylist.append('a')\n",
    "mylist\n",
    "mylist.append(['a','b','c'])\n",
    "mylist"
   ]
  },
  {
   "cell_type": "markdown",
   "id": "13b67397-bd38-4c41-96de-fe573054a1e1",
   "metadata": {},
   "source": [
    "#### Selection ####"
   ]
  },
  {
   "cell_type": "code",
   "execution_count": 32,
   "id": "a9fff234-149e-4b1d-877b-3a9d60c7bbf3",
   "metadata": {},
   "outputs": [
    {
     "name": "stdout",
     "output_type": "stream",
     "text": [
      "1 a [1, 2, 3]\n"
     ]
    }
   ],
   "source": [
    "print(mylist[0],\n",
    "mylist[4][0],\n",
    "mylist[:3])"
   ]
  },
  {
   "cell_type": "markdown",
   "id": "0d85decb-d909-47ae-b7f3-6a1f1a731ee8",
   "metadata": {},
   "source": [
    "### List traversal ###"
   ]
  },
  {
   "cell_type": "code",
   "execution_count": 33,
   "id": "8a5d5f1c-1102-49ed-b364-8a16cb3ffff0",
   "metadata": {},
   "outputs": [
    {
     "data": {
      "text/plain": [
       "['Insert GIF here', 2, 3, 'a', ['a', 'b', 'c']]"
      ]
     },
     "execution_count": 33,
     "metadata": {},
     "output_type": "execute_result"
    }
   ],
   "source": [
    "mylist[0] = 'Insert GIF here'\n",
    "mylist"
   ]
  },
  {
   "cell_type": "markdown",
   "id": "9e6444df-833d-4dc5-835c-4064b3907d5f",
   "metadata": {},
   "source": [
    "### Tuples ###"
   ]
  },
  {
   "cell_type": "code",
   "execution_count": 34,
   "id": "c653294d-29ce-4f57-b398-2a4efd4d2051",
   "metadata": {},
   "outputs": [],
   "source": [
    "t = (1,2,3)\n",
    "#We cannot overwrite data in a tuple#"
   ]
  },
  {
   "cell_type": "markdown",
   "id": "296674d9-09e8-4d8f-8c69-0b229caf72e6",
   "metadata": {},
   "source": [
    "### Dictionary ###"
   ]
  },
  {
   "cell_type": "code",
   "execution_count": 35,
   "id": "69f526e0-5e47-4f9e-bdb2-d9dfe5b86140",
   "metadata": {},
   "outputs": [
    {
     "data": {
      "text/plain": [
       "'Mark'"
      ]
     },
     "execution_count": 35,
     "metadata": {},
     "output_type": "execute_result"
    }
   ],
   "source": [
    "dicto = {'Name':'Mark','Date':'20 March 02','age':20}\n",
    "dicto['Name']"
   ]
  },
  {
   "cell_type": "markdown",
   "id": "314a321b-da92-4fc6-aa12-382310f915c1",
   "metadata": {},
   "source": [
    "### Sets ###\n",
    ">Extremely unordered"
   ]
  },
  {
   "cell_type": "code",
   "execution_count": 36,
   "id": "07071030-ff0c-4a61-bdd6-462b938edec5",
   "metadata": {},
   "outputs": [
    {
     "data": {
      "text/plain": [
       "{1, 2, 3, 4, 5}"
      ]
     },
     "execution_count": 36,
     "metadata": {},
     "output_type": "execute_result"
    }
   ],
   "source": [
    "setforsomereason = {1,2,3,2,2,3,4,5,5,4,5}\n",
    "setforsomereason"
   ]
  },
  {
   "cell_type": "markdown",
   "id": "631c2eaa-0100-4c70-b89d-a3917dc980f8",
   "metadata": {},
   "source": [
    "### Functions in `*Python*` ###"
   ]
  },
  {
   "cell_type": "code",
   "execution_count": 65,
   "id": "095dfdaa-c9f6-4bb9-b73e-70c85c27e989",
   "metadata": {},
   "outputs": [],
   "source": [
    "def samplefunction(args,arg1):\n",
    "    str(args)\n",
    "    return arg1*(\"Wow\"+args)"
   ]
  },
  {
   "cell_type": "code",
   "execution_count": 66,
   "id": "19b4f73a-558a-425d-af6b-22e4325a1a9b",
   "metadata": {},
   "outputs": [
    {
     "data": {
      "text/plain": [
       "'Wow2Wow2'"
      ]
     },
     "execution_count": 66,
     "metadata": {},
     "output_type": "execute_result"
    }
   ],
   "source": [
    "samplefunction(\"2\",2)"
   ]
  },
  {
   "cell_type": "code",
   "execution_count": 61,
   "id": "16fea668-1a76-41e3-a959-13860e2627d7",
   "metadata": {},
   "outputs": [],
   "source": [
    "sampleFunction = lambda args:args*2"
   ]
  },
  {
   "cell_type": "code",
   "execution_count": 63,
   "id": "327d97cf-e9de-4e3d-93a5-d6bca0ad4e55",
   "metadata": {},
   "outputs": [
    {
     "data": {
      "text/plain": [
       "'22'"
      ]
     },
     "execution_count": 63,
     "metadata": {},
     "output_type": "execute_result"
    }
   ],
   "source": [
    "sampleFunction('2')"
   ]
  },
  {
   "cell_type": "markdown",
   "id": "a1e5c5a7-63c3-43b7-9aca-a4ac403e1799",
   "metadata": {},
   "source": [
    "### List comprehension ###"
   ]
  },
  {
   "cell_type": "code",
   "execution_count": 1,
   "id": "810dd916-231c-42f5-8ddd-5777c2b6422d",
   "metadata": {},
   "outputs": [
    {
     "data": {
      "text/plain": [
       "[1, 4, 9, 16]"
      ]
     },
     "execution_count": 1,
     "metadata": {},
     "output_type": "execute_result"
    }
   ],
   "source": [
    "item = [1,2,3,4]\n",
    "list(x**2 for x in item)"
   ]
  },
  {
   "cell_type": "markdown",
   "id": "41506ffd-2a45-4d21-baf4-c9c7714e737f",
   "metadata": {},
   "source": [
    "### Formatting ###"
   ]
  },
  {
   "cell_type": "code",
   "execution_count": 73,
   "id": "3245f32f-e651-44a5-adca-3c854b92979c",
   "metadata": {},
   "outputs": [
    {
     "name": "stdout",
     "output_type": "stream",
     "text": [
      "My head is aching and my leg is ticklish\n"
     ]
    }
   ],
   "source": [
    "print(\"My head is {0} and my leg is {1}\".format('aching','ticklish'))"
   ]
  },
  {
   "cell_type": "code",
   "execution_count": 6,
   "id": "170a02c6-3db5-403a-8abf-4b8b414350a6",
   "metadata": {},
   "outputs": [
    {
     "data": {
      "text/plain": [
       "dict_values([[1, 2, 3, {'tricky': ['oh', 'man', 'inception', {'target': [1, 2, 3, 'hello']}]}]])"
      ]
     },
     "execution_count": 6,
     "metadata": {},
     "output_type": "execute_result"
    }
   ],
   "source": [
    "d = {'k1':[1,2,3,{'tricky':['oh','man','inception',{'target':[1,2,3,'hello']}]}]}\n",
    "d.values()"
   ]
  },
  {
   "cell_type": "code",
   "execution_count": null,
   "id": "c4df6927-f3e0-41f0-a70c-5aea1a4030b7",
   "metadata": {},
   "outputs": [],
   "source": []
  }
 ],
 "metadata": {
  "kernelspec": {
   "display_name": "Python 3 (Intel® oneAPI 2023.2)",
   "language": "python",
   "name": "c009-intel_distribution_of_python_3_oneapi-beta05-python"
  },
  "language_info": {
   "codemirror_mode": {
    "name": "ipython",
    "version": 3
   },
   "file_extension": ".py",
   "mimetype": "text/x-python",
   "name": "python",
   "nbconvert_exporter": "python",
   "pygments_lexer": "ipython3",
   "version": "3.9.16"
  }
 },
 "nbformat": 4,
 "nbformat_minor": 5
}
